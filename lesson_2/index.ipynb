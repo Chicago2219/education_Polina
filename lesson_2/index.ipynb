{
 "cells": [
  {
   "cell_type": "markdown",
   "metadata": {},
   "source": [
    "\n",
    "## Структуры данных\n",
    "1. Список(List)\n",
    "2. Кортеж(Tuple)\n",
    "3. Множество(Set)\n",
    "4. Словарь(Dictionary)\n",
    "5. Массив(array)\n"
   ]
  },
  {
   "cell_type": "markdown",
   "metadata": {},
   "source": [
    "### Список(List)"
   ]
  },
  {
   "cell_type": "code",
   "execution_count": 24,
   "metadata": {},
   "outputs": [],
   "source": [
    "# Создание пустого списка\n",
    "data = list()\n",
    "data = []"
   ]
  },
  {
   "cell_type": "code",
   "execution_count": 25,
   "metadata": {},
   "outputs": [
    {
     "data": {
      "text/plain": [
       "[1, -23, -3.242, 'Moscow', True]"
      ]
     },
     "execution_count": 25,
     "metadata": {},
     "output_type": "execute_result"
    }
   ],
   "source": [
    "# Создание заполненного списка\n",
    "data = [1, -23, -3.242, \"Moscow\", True]\n",
    "data"
   ]
  },
  {
   "cell_type": "code",
   "execution_count": 26,
   "metadata": {},
   "outputs": [
    {
     "data": {
      "text/plain": [
       "(1, 'Moscow')"
      ]
     },
     "execution_count": 26,
     "metadata": {},
     "output_type": "execute_result"
    }
   ],
   "source": [
    "# Индексация\n",
    "data = [1, -23, -3.242, \"Moscow\", True]\n",
    "#       0    1     2       3       4\n",
    "#      -5   -4    -3      -2      -1\n",
    "data[0], data[-2]"
   ]
  },
  {
   "cell_type": "code",
   "execution_count": 27,
   "metadata": {},
   "outputs": [
    {
     "name": "stdout",
     "output_type": "stream",
     "text": [
      "0 1 2 3 4\n",
      "2 3 4 5 6 7\n",
      "3 5 7 9\n",
      "10 9 8 7 6 5 4 3 2 1\n",
      "12 10 8 6 4 2 0\n"
     ]
    }
   ],
   "source": [
    "# range(start=0, end=?, step=+1)\n",
    "print(*range(5))\n",
    "print(*range(2, 8))\n",
    "print(*range(3, 11, 2))\n",
    "print(*range(10, 0, -1))\n",
    "print(*range(12, -1, -2))"
   ]
  },
  {
   "cell_type": "code",
   "execution_count": 28,
   "metadata": {},
   "outputs": [
    {
     "name": "stdout",
     "output_type": "stream",
     "text": [
      "[1, -23, -3.242, 'Moscow', True] 5\n",
      "Moscow 6\n",
      "[1, -23, -3.242, 'Moscow', True, 'Polina']\n",
      "['Ivan', 1, -23, -3.242, 'Moscow', True, 'Polina']\n"
     ]
    }
   ],
   "source": [
    "# Функции и методы\n",
    "# 1. len() - находит длину\n",
    "print(data, len(data))\n",
    "print(\"Moscow\", len(\"Moscow\"))\n",
    "# 2. name_list.append(value) - добавляет элемент в конец списка\n",
    "data.append(\"Polina\")\n",
    "print(data)\n",
    "# 3. name_list.insert(index, value) - добавляет элемент value на позицию index\n",
    "data.insert(0, \"Ivan\")\n",
    "print(data)"
   ]
  },
  {
   "cell_type": "code",
   "execution_count": 29,
   "metadata": {},
   "outputs": [
    {
     "name": "stdout",
     "output_type": "stream",
     "text": [
      "[-97, 72, -66, 31, -16, 50, 13, 94, -65, -72, 77, 67]\n"
     ]
    }
   ],
   "source": [
    "# Напишите программу, которая принимает на вход количество элементов списка и заполняет его случайными числами.abs\n",
    "from random import randint\n",
    "\n",
    "\n",
    "n = int(input(\"Введите кол-во элементов списка: \"))  # n = 10\n",
    "data = []\n",
    "for i in range(n):  # range(0, 10, 1) -> 0, 1, 2, 3, 4, 5, 6, 7, 8, 9\n",
    "    data.append(randint(-100, 100))\n",
    "print(data)"
   ]
  },
  {
   "attachments": {
    "image.png": {
     "image/png": "[encoded data removed]"
    }
   },
   "cell_type": "markdown",
   "metadata": {},
   "source": [
    "![image.png](attachment:image.png)"
   ]
  },
  {
   "cell_type": "code",
   "execution_count": null,
   "metadata": {},
   "outputs": [
    {
     "name": "stdout",
     "output_type": "stream",
     "text": [
      "[12, 42, 6]\n"
     ]
    }
   ],
   "source": [
    "n = int(input())\n",
    "count = 0\n",
    "data = []\n",
    "while n != 0:\n",
    "    count += 1\n",
    "    data.append(n)\n",
    "    n = int(input())\n",
    "# result = []\n",
    "# for el in data:\n",
    "#     if el % count == 0:\n",
    "#         result.append(el)\n",
    "# print(result)\n",
    "print([i for i in data if i % count == 0])  # list compehensions"
   ]
  },
  {
   "cell_type": "code",
   "execution_count": 40,
   "metadata": {},
   "outputs": [
    {
     "name": "stdout",
     "output_type": "stream",
     "text": [
      "['м', 'м', ' мыл', ' р', 'му']\n",
      "мама мыла раму\n"
     ]
    }
   ],
   "source": [
    "# .split() и .join()\n",
    "text = \"мама мыла раму\"\n",
    "text = text.split(\"а\")\n",
    "print(text)\n",
    "text = 'а'.join(text)\n",
    "print(text)"
   ]
  },
  {
   "cell_type": "code",
   "execution_count": 44,
   "metadata": {},
   "outputs": [
    {
     "name": "stdout",
     "output_type": "stream",
     "text": [
      "№мам мыла раму\n"
     ]
    }
   ],
   "source": [
    "text = \"№%3332532мам,.?^@ м^*^#((@ы@%@@л)()(__+-+а р!@#$&*@ам#*&&*(@у\"\n",
    "separator = '0123456789.?!@#$%^&*()_+=,-'\n",
    "for s in separator:\n",
    "    text = text.split(s)\n",
    "    text = ''.join(text)\n",
    "print(text)"
   ]
  },
  {
   "cell_type": "markdown",
   "metadata": {},
   "source": [
    "### Множество(set)\n",
    "\n",
    "1. Элементы хранятся в хаотичном порядке, из этого следует отсутствие индексации.\n",
    "2. Множество хранит только уникальные значения."
   ]
  },
  {
   "cell_type": "code",
   "execution_count": 46,
   "metadata": {},
   "outputs": [],
   "source": [
    "# создание пустого множества\n",
    "data = set()"
   ]
  },
  {
   "cell_type": "code",
   "execution_count": 47,
   "metadata": {},
   "outputs": [
    {
     "name": "stdout",
     "output_type": "stream",
     "text": [
      "{0, 784, 2, 3, 35, 9, -1}\n"
     ]
    }
   ],
   "source": [
    "# создание заполненного множества\n",
    "data = {2, 3, -1, 35, 9, 0, 784, 0, 0, 0, 0}\n",
    "print(data)"
   ]
  },
  {
   "cell_type": "code",
   "execution_count": 48,
   "metadata": {},
   "outputs": [
    {
     "name": "stdout",
     "output_type": "stream",
     "text": [
      "0\n",
      "784\n",
      "2\n",
      "3\n",
      "35\n",
      "9\n",
      "-1\n"
     ]
    }
   ],
   "source": [
    "for i in data:\n",
    "    print(i)"
   ]
  },
  {
   "cell_type": "code",
   "execution_count": 50,
   "metadata": {},
   "outputs": [
    {
     "data": {
      "text/plain": [
       "{-1, 0, 1, 2, 3, 4, 5, 6, 7, 8, 9, 10, 35, 784}"
      ]
     },
     "execution_count": 50,
     "metadata": {},
     "output_type": "execute_result"
    }
   ],
   "source": [
    "for i in range(0, 11):\n",
    "    data.add(i)\n",
    "data"
   ]
  },
  {
   "cell_type": "code",
   "execution_count": null,
   "metadata": {},
   "outputs": [
    {
     "name": "stdout",
     "output_type": "stream",
     "text": [
      "4\n"
     ]
    }
   ],
   "source": [
    "data = [1, 1, 1, 3, 4, 3, 3, 4, 4, 0, 0, 0, 0, 0]\n",
    "print(len(set(data)))"
   ]
  },
  {
   "cell_type": "markdown",
   "metadata": {},
   "source": [
    "### Кортежи(tuple)\n",
    "\n",
    "1. Неизменяемая структурая данных"
   ]
  },
  {
   "cell_type": "code",
   "execution_count": 53,
   "metadata": {},
   "outputs": [
    {
     "ename": "TypeError",
     "evalue": "'tuple' object does not support item assignment",
     "output_type": "error",
     "traceback": [
      "\u001b[1;31m---------------------------------------------------------------------------\u001b[0m",
      "\u001b[1;31mTypeError\u001b[0m                                 Traceback (most recent call last)",
      "Cell \u001b[1;32mIn[53], line 2\u001b[0m\n\u001b[0;32m      1\u001b[0m speed \u001b[38;5;241m=\u001b[39m (\u001b[38;5;241m10\u001b[39m, \u001b[38;5;241m20\u001b[39m)\n\u001b[1;32m----> 2\u001b[0m speed[\u001b[38;5;241m0\u001b[39m] \u001b[38;5;241m=\u001b[39m \u001b[38;5;241m1\u001b[39m\n",
      "\u001b[1;31mTypeError\u001b[0m: 'tuple' object does not support item assignment"
     ]
    }
   ],
   "source": [
    "speed = (10, 20)\n",
    "speed[0] = 1"
   ]
  },
  {
   "cell_type": "markdown",
   "metadata": {},
   "source": [
    "### Словари(dict)\n",
    "\n",
    "Пара: key: value"
   ]
  },
  {
   "cell_type": "code",
   "execution_count": null,
   "metadata": {},
   "outputs": [],
   "source": [
    "# Создание пустого словаря\n",
    "data = {}\n",
    "data = dict()"
   ]
  },
  {
   "cell_type": "code",
   "execution_count": 54,
   "metadata": {},
   "outputs": [
    {
     "data": {
      "text/plain": [
       "{'Иван': 89100954572, 'Петр': 89000254572}"
      ]
     },
     "execution_count": 54,
     "metadata": {},
     "output_type": "execute_result"
    }
   ],
   "source": [
    "# Создание заполненного словаря\n",
    "data = {\"Иван\": 8_910_095_45_72, \"Петр\": 8_900_025_45_72}\n",
    "data"
   ]
  },
  {
   "cell_type": "code",
   "execution_count": 55,
   "metadata": {},
   "outputs": [
    {
     "data": {
      "text/plain": [
       "89100954572"
      ]
     },
     "execution_count": 55,
     "metadata": {},
     "output_type": "execute_result"
    }
   ],
   "source": [
    "data[\"Иван\"]"
   ]
  },
  {
   "cell_type": "code",
   "execution_count": 57,
   "metadata": {},
   "outputs": [
    {
     "name": "stdout",
     "output_type": "stream",
     "text": [
      "[89100954572, 89000254572]\n",
      "dict_keys(['Иван', 'Петр'])\n",
      "dict_items([('Иван', 89100954572), ('Петр', 89000254572)])\n"
     ]
    }
   ],
   "source": [
    "print(list(data.values()))\n",
    "print(data.keys())\n",
    "print(data.items())"
   ]
  },
  {
   "cell_type": "code",
   "execution_count": 59,
   "metadata": {},
   "outputs": [
    {
     "name": "stdout",
     "output_type": "stream",
     "text": [
      "Иван 89100954572\n",
      "Петр 89000254572\n"
     ]
    }
   ],
   "source": [
    "for i in data:\n",
    "    print(i, data[i])\n"
   ]
  },
  {
   "cell_type": "code",
   "execution_count": 61,
   "metadata": {},
   "outputs": [
    {
     "name": "stdout",
     "output_type": "stream",
     "text": [
      "Иван 89100954572\n",
      "Петр 89000254572\n"
     ]
    }
   ],
   "source": [
    "for i in data.keys():\n",
    "    print(i, data[i])"
   ]
  },
  {
   "cell_type": "code",
   "execution_count": 62,
   "metadata": {},
   "outputs": [
    {
     "name": "stdout",
     "output_type": "stream",
     "text": [
      "Иван 89100954572\n",
      "Петр 89000254572\n"
     ]
    }
   ],
   "source": [
    "for key, value in data.items():\n",
    "    print(key, value)"
   ]
  },
  {
   "attachments": {
    "image.png": {
     "image/png": "[encoded data removed]"
    }
   },
   "cell_type": "markdown",
   "metadata": {},
   "source": [
    "![image.png](attachment:image.png)"
   ]
  },
  {
   "cell_type": "code",
   "execution_count": null,
   "metadata": {},
   "outputs": [
    {
     "name": "stdout",
     "output_type": "stream",
     "text": [
      "{'1': 5, '6': 1, '5': 5, '4': 1, '8': 1, '0': 5, '9': 1, '3': 1, '2': 1}\n",
      "dict_values([5, 1, 5, 1, 1, 5, 1, 1, 1])\n",
      "[5, 1, 5, 1, 1, 5, 1, 1, 1]\n",
      "5\n",
      "5 1 0\n"
     ]
    }
   ],
   "source": [
    "data = ''.join(input().split())\n",
    "data\n",
    "# \"165 514 8059 352 100500 11\"\n",
    "counter = {}\n",
    "for char in data:\n",
    "    # print(counter)\n",
    "    if char not in counter:  # <=> counter.keys()\n",
    "        counter[char] = 1\n",
    "        # {\"1\": 1}\n",
    "    else:\n",
    "        counter[char] += 1\n",
    "        # {\"1\": 2}\n",
    "\n",
    "# print(counter)\n",
    "# print(counter.values())\n",
    "# print(list(counter.values()))\n",
    "# print(max(list(counter.values())))\n",
    "\n",
    "max_count = max(list(counter.values()))\n",
    "\n",
    "result = []\n",
    "\n",
    "for key, value in counter.items():\n",
    "    if value == max_count:\n",
    "        result.append(key)\n",
    "\n",
    "result.sort()  # reverse=True\n",
    "\n",
    "print(*result)"
   ]
  }
 ],
 "metadata": {
  "kernelspec": {
   "display_name": "base",
   "language": "python",
   "name": "python3"
  },
  "language_info": {
   "codemirror_mode": {
    "name": "ipython",
    "version": 3
   },
   "file_extension": ".py",
   "mimetype": "text/x-python",
   "name": "python",
   "nbconvert_exporter": "python",
   "pygments_lexer": "ipython3",
   "version": "3.12.4"
  }
 },
 "nbformat": 4,
 "nbformat_minor": 2
}
